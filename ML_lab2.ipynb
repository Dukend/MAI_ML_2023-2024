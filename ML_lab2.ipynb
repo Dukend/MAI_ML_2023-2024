{
  "nbformat": 4,
  "nbformat_minor": 0,
  "metadata": {
    "colab": {
      "provenance": []
    },
    "kernelspec": {
      "name": "python3",
      "display_name": "Python 3"
    },
    "language_info": {
      "name": "python"
    }
  },
  "cells": [
    {
      "cell_type": "markdown",
      "source": [
        "\n",
        "# Глобальная оптимизация и метаэврестические алгоритмы\n",
        "\n",
        "\n",
        "В Pygmo запрогроммировать две своих тестовых функции и найти их оптимум 3 разными алгоритмами доступными в библиотеке и получить таблицу сравнения\n",
        "\n",
        "\n"
      ],
      "metadata": {
        "id": "vPDtc5k0rf2t"
      }
    },
    {
      "cell_type": "code",
      "source": [
        "%pip install pygmo"
      ],
      "metadata": {
        "colab": {
          "base_uri": "https://localhost:8080/"
        },
        "id": "FBtCNa08oeii",
        "outputId": "6d8510d8-da3e-477c-92ee-481642b8824d"
      },
      "execution_count": 1,
      "outputs": [
        {
          "output_type": "stream",
          "name": "stdout",
          "text": [
            "Collecting pygmo\n",
            "  Downloading pygmo-2.19.5-cp310-cp310-manylinux_2_28_x86_64.whl (14.7 MB)\n",
            "\u001b[2K     \u001b[90m━━━━━━━━━━━━━━━━━━━━━━━━━━━━━━━━━━━━━━━━\u001b[0m \u001b[32m14.7/14.7 MB\u001b[0m \u001b[31m50.8 MB/s\u001b[0m eta \u001b[36m0:00:00\u001b[0m\n",
            "\u001b[?25hRequirement already satisfied: numpy in /usr/local/lib/python3.10/dist-packages (from pygmo) (1.23.5)\n",
            "Requirement already satisfied: cloudpickle in /usr/local/lib/python3.10/dist-packages (from pygmo) (2.2.1)\n",
            "Requirement already satisfied: scipy in /usr/local/lib/python3.10/dist-packages (from pygmo) (1.11.4)\n",
            "Installing collected packages: pygmo\n",
            "Successfully installed pygmo-2.19.5\n"
          ]
        }
      ]
    },
    {
      "cell_type": "code",
      "execution_count": 10,
      "metadata": {
        "id": "5uodzqueai--",
        "colab": {
          "base_uri": "https://localhost:8080/"
        },
        "outputId": "0be25cb6-7188-4c67-b8f3-fe88750849e0"
      },
      "outputs": [
        {
          "output_type": "stream",
          "name": "stdout",
          "text": [
            "Algo-Problem-Best_Fitness ^^ DE: Differential Evolution --- <class '__main__.func1'> --- 2.32697262048341e-08\n",
            "Algo-Problem-Best_Fitness ^^ DE: Differential Evolution --- <class '__main__.func2'> --- 5.6524746358228216e-08\n",
            "Algo-Problem-Best_Fitness ^^ PSO: Particle Swarm Optimization --- <class '__main__.func1'> --- 3.5427034705772416e-10\n",
            "Algo-Problem-Best_Fitness ^^ PSO: Particle Swarm Optimization --- <class '__main__.func2'> --- 1.5009002695391138e-05\n",
            "Algo-Problem-Best_Fitness ^^ SGA: Genetic Algorithm --- <class '__main__.func1'> --- 0.016506733567887958\n",
            "Algo-Problem-Best_Fitness ^^ SGA: Genetic Algorithm --- <class '__main__.func2'> --- 0.018401292724535206\n",
            "                          Algorithm                   Problem  Best Fitness\n",
            "0        DE: Differential Evolution  <class '__main__.func1'>  2.326973e-08\n",
            "1        DE: Differential Evolution  <class '__main__.func2'>  5.652475e-08\n",
            "2  PSO: Particle Swarm Optimization  <class '__main__.func1'>  3.542703e-10\n",
            "3  PSO: Particle Swarm Optimization  <class '__main__.func2'>  1.500900e-05\n",
            "4            SGA: Genetic Algorithm  <class '__main__.func1'>  1.650673e-02\n",
            "5            SGA: Genetic Algorithm  <class '__main__.func2'>  1.840129e-02\n"
          ]
        }
      ],
      "source": [
        "import pygmo as pg\n",
        "import numpy as np\n",
        "import pandas as pd\n",
        "\n",
        "class func1:\n",
        "    def fitness(self, x):\n",
        "        return [np.sum(x**2)]\n",
        "\n",
        "    def get_bounds(self):\n",
        "        return ([-5, -5], [5, 5])\n",
        "\n",
        "class func2:\n",
        "    def fitness(self, x):\n",
        "        return [np.sum(np.abs(x)) + np.prod(np.abs(x))]\n",
        "\n",
        "    def get_bounds(self):\n",
        "        return ([-5, -5], [5, 5])\n",
        "\n",
        "algo1 = pg.algorithm(pg.de(gen = 100))\n",
        "algo2 = pg.algorithm(pg.pso(gen = 100))\n",
        "algo3 = pg.algorithm(pg.sga(gen = 100))\n",
        "\n",
        "prob1 = pg.problem(func1())\n",
        "prob2 = pg.problem(func2())\n",
        "\n",
        "results = []\n",
        "for algo in [algo1, algo2, algo3]:\n",
        "    for prob in [prob1, prob2]:\n",
        "        pop = pg.population(prob, 10)\n",
        "        pop = algo.evolve(pop)\n",
        "        results.append([algo.get_name(), prob.get_name(), pop.champion_f[0]])\n",
        "\n",
        "for result in results:\n",
        "    print(\"Algo-Problem-Best_Fitness ^^ {} --- {} --- {}\".format(*result))\n",
        "\n",
        "df = pd.DataFrame(results, columns=['Algorithm', 'Problem', 'Best Fitness'])\n",
        "\n",
        "print(df)"
      ]
    }
  ]
}